{
 "cells": [
  {
   "cell_type": "code",
   "execution_count": 1,
   "metadata": {
    "id": "M23D7BxAv0Kh"
   },
   "outputs": [],
   "source": [
    "import requests\n",
    "import time\n",
    "import tqdm\n",
    "import datetime"
   ]
  },
  {
   "cell_type": "code",
   "execution_count": 1,
   "metadata": {
    "id": "zQVJWpodr8J3"
   },
   "outputs": [],
   "source": [
    "githubs = '''\n",
    "https://github.com/lord-microstrain\n",
    "https://github.com/milvusrobotics\n",
    "https://github.com/MindHome-Inc\n",
    "https://github.com/MisoRobotics\n",
    "0\n",
    "https://github.com/merlresearch\n",
    "https://github.com/mir-robots\n",
    "https://github.com/4am-robotics\n",
    "0\n",
    "https://github.com/MORAI-Autonomous\n",
    "https://github.com/motius\n",
    "0\n",
    "0\n",
    "0\n",
    "0\n",
    "https://github.com/NaioTechnologies\n",
    "https://github.com/nakai-omer\n",
    "0\n",
    "https://github.com/naturerobots\n",
    "0\n",
    "0\n",
    "0\n",
    "0\n",
    "https://github.com/nearthlab\n",
    "0\n",
    "https://github.com/neobotix\n",
    "https://github.com/nerian-vision\n",
    "0\n",
    "https://github.com/neuromeka-robotics\n",
    "https://github.com/nexuni\n",
    "0\n",
    "https://github.com/nfiniity\n",
    "https://github.com/niryorobotics\n",
    "0\n",
    "https://github.com/nobleo\n",
    "0\n",
    "https://github.com/Nokia-Bell-Labs\n",
    "https://github.com/NOKOV-MOCAP\n",
    "https://github.com/NoosWare\n",
    "0\n",
    "0\n",
    "0\n",
    "https://github.com/numurus-nepi\n",
    "0\n",
    "https://github.com/nvidia\n",
    "https://github.com/NXP\n",
    "https://github.com/NXROBO\n",
    "https://github.com/NXTGEN-Robotics\n",
    "https://github.com/objectcomputing\n",
    "https://github.com/ocadotechnology\n",
    "https://github.com/Oceaneering\n",
    "https://github.com/octobotics\n",
    "https://github.com/Odddotbot\n",
    "https://github.com/offworld-projects\n",
    "https://github.com/data-charya/OLA-Electric\n",
    "https://github.com/olive-robotics\n",
    "https://github.com/omron-devhub\n",
    "https://github.com/osrf\n",
    "https://github.com/Opteran\n",
    "https://github.com/isys-vision\n",
    "https://github.com/orangewood-labs\n",
    "https://github.com/orbbec\n",
    "https://github.com/OrbitalComposites\n",
    "0\n",
    "0\n",
    "https://github.com/OsaroAI\n",
    "0\n",
    "0\n",
    "0\n",
    "https://github.com/ouster-lidar\n",
    "0\n",
    "0\n",
    "https://github.com/OversonicRobotics\n",
    "0\n",
    "https://github.com/pal-robotics\n",
    "https://github.com/LORD-MicroStrain\n",
    "https://github.com/parrot-developers\n",
    "https://github.com/path-robotics\n",
    "0\n",
    "https://github.com/Peppermint-Robots\n",
    "https://github.com/PerceptIn\n",
    "0\n",
    "0\n",
    "0\n",
    "https://github.com/PHOENIXCONTACT\n",
    "https://github.com/photoneo-3d\n",
    "https://github.com/PI-PhysikInstrumente\n",
    "https://github.com/piaggiofastforward\n",
    "https://github.com/PickNikRobotics\n",
    "0\n",
    "https://github.com/PilzDE\n",
    "https://github.com/pixelink-support\n",
    "https://github.com/pixmoving-moveit\n",
    "https://github.com/pixel-robotics\n",
    "https://github.com/PlusAI\n",
    "https://github.com/plusone-robotics\n",
    "https://github.com/pointonenav\n",
    "https://github.com/polymathrobotics\n",
    "https://github.com/PPM-Robotics-AS\n",
    "0\n",
    "https://github.com/prophesee-ai\n",
    "0\n",
    "https://github.com/qbrobotics\n",
    "0\n",
    "https://github.com/quic\n",
    "https://github.com/QuanergySystems\n",
    "https://github.com/quantillion\n",
    "https://github.com/quasi-robotics\n",
    "https://github.com/RangeAero\n",
    "https://github.com/rapyuta-robotics\n",
    "https://github.com/ready-robotics\n",
    "https://github.com/RealManRobot\n",
    "https://github.com/RealtimeRobotics\n",
    "https://github.com/redwirespace\n",
    "https://github.com/tomlogan501\n",
    "https://github.com/RelativitySpace\n",
    "https://github.com/savioke\n",
    "https://github.com/remakeai\n",
    "https://github.com/REMYRobotics\n",
    "https://github.com/renesas\n",
    "\n",
    "\n",
    "https://github.com/rifrobotics\n",
    "https://github.com/RightHandRobotics\n",
    "https://github.com/rios-ai\n",
    "https://github.com/rivelinrobotics\n",
    "https://github.com/RobertShaw\n",
    "https://github.com/roboception\n",
    "https://github.com/robo-deck\n",
    "https://github.com/RoboK2017\n",
    "https://github.com/robolaunch\n",
    "https://github.com/robosharing\n",
    "https://github.com/RoboSense-LiDAR\n",
    "https://github.com/RobotecAI\n",
    "https://github.com/robotechvision\n",
    "\n",
    "https://github.com/robotican\n",
    "https://github.com/robotiq\n",
    "https://github.com/ROBOTIS-GIT\n",
    "https://github.com/roboto-ai\n",
    "\n",
    "https://github.com/RockwellAutomation\n",
    "https://github.com/Rope-Robotics\n",
    "https://github.com/rosen-group\n",
    "https://github.com/RoverRobotics\n",
    "https://github.com/rt-net\n",
    "https://github.com/rticommunity\n",
    "\n",
    "https://github.com/ruvu\n",
    "https://github.com/rybergrobotics-hardware\n",
    "\n",
    "https://github.com/sagarobotics\n",
    "https://github.com/SahaRobotik\n",
    "\n",
    "https://github.com/sastrarobotics\n",
    "https://github.com/SBG-Systems\n",
    "\n",
    "\n",
    "https://github.com/SCHUNK-SE-Co-KG\n",
    "https://github.com/scythe-robotics\n",
    "\n",
    "https://github.com/SeaosRobotics\n",
    "https://github.com/seasony-org\n",
    "https://github.com/sec-airgraph\n",
    "\n",
    "https://github.com/seedrobotics\n",
    "https://github.com/seegrid-fleet\n",
    "https://github.com/segway-robotics\n",
    "https://github.com/sensyn-robotics\n",
    "https://github.com/seoulrobotics\n",
    "https://github.com/septentrio-gnss\n",
    "https://github.com/seqsense\n",
    "https://github.com/hopetechnik\n",
    "https://github.com/sevensense-robotics\n",
    "https://github.com/shadow-robot\n",
    "https://github.com/YDLIDAR\n",
    "https://github.com/shield-ai\n",
    "\n",
    "\n",
    "https://github.com/SICKAG\n",
    "https://github.com/siemens\n",
    "https://github.com/SimbeRobotics\n",
    "https://github.com/logiticks\n",
    "https://github.com/skarvtech\n",
    "\n",
    "https://github.com/Skycatch\n",
    "https://github.com/AYTroblab\n",
    "https://github.com/slamcore\n",
    "\n",
    "https://github.com/sliQue-Inc\n",
    "https://github.com/SmallRobotCompany\n",
    "https://github.com/smartmicro\n",
    "https://github.com/oxin-ros\n",
    "\n",
    "\n",
    "https://github.com/SNCFdevelopers\n",
    "https://github.com/softbankrobotics-research\n",
    "https://github.com/solectrix\n",
    "https://github.com/Solid-State-of-Mind-Inc\n",
    "\n",
    "https://github.com/getsomatic\n",
    "https://github.com/sony\n",
    "\n",
    "https://github.com/SouthieAutonomy\n",
    "https://github.com/swri-robotics-gbp\n",
    "https://github.com/spacetimelabs\n",
    "https://github.com/Spinbotics-s-r-o\n",
    "\n",
    "https://github.com/squarerobot\n",
    "https://github.com/ST-ROBOTICS\n",
    "https://github.com/starship-technologies\n",
    "\n",
    "https://github.com/Stellantis\n",
    "https://github.com/stereolabs\n",
    "https://github.com/STMicroelectronics\n",
    "https://github.com/StoglRobotics\n",
    "https://github.com/StratomInc\n",
    "https://github.com/streetdrone-home\n",
    "https://github.com/SundanceMultiprocessorTechnology\n",
    "https://github.com/SvenzvaRobotics\n",
    "https://github.com/swift-nav\n",
    "\n",
    "\n",
    "https://github.com/Synkar\n",
    "\n",
    "https://github.com/SystemTrio-Robotics\n",
    "https://github.com/tailosinc\n",
    "https://github.com/Tangram-Vision/\n",
    "\n",
    "https://github.com/tdk-invn-oss\n",
    "\n",
    "https://github.com/TechMagicKK\n",
    "https://github.com/TechmanRobotInc\n",
    "https://github.com/telemething\n",
    "\n",
    "https://github.com/TerraClear\n",
    "https://github.com/tetra-aero\n",
    "https://github.com/Tettix/\n",
    "https://github.com/TexasInstruments\n",
    "\n",
    "https://github.com/TheConstructAi\n",
    "https://github.com/eplane-ai\n",
    "\n",
    "https://github.com/autowarefoundation/autoware\n",
    "https://github.com/tinymobilerobots\n",
    "\n",
    "\n",
    "https://github.com/TokyoRobotics\n",
    "\n",
    "\n",
    "https://github.com/torc-ai\n",
    "https://github.com/tormach\n",
    "https://github.com/ToyotaResearchInstitute\n",
    "https://github.com/woven-planet\n",
    "https://github.com/traclabs\n",
    "https://github.com/Tractonomy\n",
    "\n",
    "\n",
    "https://github.com/trimble-oss\n",
    "\n",
    "https://github.com/TrossenRobotics\n",
    "https://github.com/tryolabs\n",
    "\n",
    "\n",
    "https://github.com/TuSimple\n",
    "https://github.com/t-systems\n",
    "https://github.com/UBCAgroBot\n",
    "https://github.com/ubica-robotics\n",
    "https://github.com/UbiquityRobotics\n",
    "https://github.com/udacity\n",
    "https://github.com/car-one\n",
    "https://github.com/ufactory\n",
    "\n",
    "https://github.com/unboxrobotics\n",
    "https://github.com/Unibap\n",
    "\n",
    "\n",
    "https://github.com/unitreerobotics\n",
    "https://github.com/Unity-Technologies\n",
    "https://github.com/universal-field-robots\n",
    "https://github.com/UniversalRobots\n",
    "https://github.com/umdlife\n",
    "https://github.com/UrbanMachine\n",
    "\n",
    "https://github.com/uvify\n",
    "https://github.com/upowerrobotics\n",
    "https://github.com/rovco\n",
    "https://github.com/valeoai\n",
    "https://github.com/Vayu-Robotics\n",
    "https://github.com/vecnarobotics\n",
    "https://github.com/vecros-tech\n",
    "https://github.com/VentionCo\n",
    "https://github.com/viamrobotics\n",
    "https://github.com/vicariousinc\n",
    "https://github.com/Visteon-Manaus\n",
    "\n",
    "\n",
    "https://github.com/VolvoGroup\n",
    "https://github.com/VorteX-co\n",
    "https://github.com/wandelbotsgmbh\n",
    "https://github.com/WeGo-Robotics\n",
    "https://github.com/westonrobot\n",
    "https://github.com/WHILL\n",
    "https://github.com/Wind-River-Systems\n",
    "\n",
    "https://github.com/wyca-robotics\n",
    "https://github.com/xaxxontech\n",
    "https://github.com/xsens\n",
    "\n",
    "https://github.com/yaak-ai\n",
    "https://github.com/Yaskawa-Global\n",
    "\n",
    "https://github.com/yokogawa\n",
    "https://github.com/yujinrobot\n",
    "\n",
    "\n",
    "https://github.com/zebratechnologies\n",
    "https://github.com/ZendarInc\n",
    "\n",
    "https://github.com/ZettaScaleLabs\n",
    "\n",
    "\n",
    "https://github.com/ZiplineTeam\n",
    "https://github.com/zivid\n",
    "https://github.com/zmp\n",
    "\n",
    "https://github.com/ZVISION-lidar\n",
    "https://github.com/3LawsRobotics\n",
    "https://github.com/4am-robotics\n",
    "\n",
    "'''"
   ]
  },
  {
   "cell_type": "code",
   "execution_count": 3,
   "metadata": {
    "id": "_GzWr0e6sOxH"
   },
   "outputs": [],
   "source": [
    "organization_names = [\n",
    "    s.replace(\"https://github.com/\", \"\") for s in githubs.split(\"\\n\") if \"github.com\" in s\n",
    "]"
   ]
  },
  {
   "cell_type": "code",
   "execution_count": null,
   "metadata": {
    "colab": {
     "base_uri": "https://localhost:8080/"
    },
    "id": "REq0t2mGsdLY",
    "outputId": "3b8d947d-42a3-462f-e632-0ae0960a4e38"
   },
   "outputs": [
    {
     "data": {
      "text/plain": [
       "240"
      ]
     },
     "execution_count": 4,
     "metadata": {},
     "output_type": "execute_result"
    }
   ],
   "source": [
    "len(organization_names)"
   ]
  },
  {
   "cell_type": "code",
   "execution_count": 5,
   "metadata": {
    "colab": {
     "base_uri": "https://localhost:8080/"
    },
    "id": "sIxqx5yswF08",
    "outputId": "5dceaefb-807f-4920-f94f-a51807ac39ea"
   },
   "outputs": [],
   "source": [
    "import getpass\n",
    "TOKEN = getpass.getpass(\"github auth token: \")"
   ]
  },
  {
   "cell_type": "code",
   "execution_count": 6,
   "metadata": {
    "id": "lZABXpPMygS7"
   },
   "outputs": [],
   "source": [
    "def convert_languages_to_percent(languages):\n",
    "  s = sum([v for k, v in languages.items()])\n",
    "  return {k: 100*v/s for k, v in languages.items()}\n",
    "\n",
    "def camel_case_split(s):\n",
    "    idx = list(map(str.isupper, s))\n",
    "    # mark change of case\n",
    "    l = [0]\n",
    "    for (i, (x, y)) in enumerate(zip(idx, idx[1:])):\n",
    "        if x and not y:  # \"Ul\"\n",
    "            l.append(i)\n",
    "        elif not x and y:  # \"lU\"\n",
    "            l.append(i+1)\n",
    "    l.append(len(s))\n",
    "    # for \"lUl\", index of \"U\" will pop twice, have to filter that\n",
    "    return [s[x:y] for x, y in zip(l, l[1:]) if x < y]\n",
    "\n",
    "def name_split(s):\n",
    "  if \"-\" in s:\n",
    "    return s.split(\"-\")\n",
    "  elif \"_\" in s:\n",
    "    return s.split(\"_\")\n",
    "  else:\n",
    "    return camel_case_split(s)"
   ]
  },
  {
   "cell_type": "code",
   "execution_count": 7,
   "metadata": {
    "id": "D5j_5F5-v1pk"
   },
   "outputs": [],
   "source": [
    "BASE_LINK = \"https://api.github.com/\"\n",
    "header = {\"Authorization\": f\"Bearer {TOKEN}\"}"
   ]
  },
  {
   "cell_type": "code",
   "execution_count": null,
   "metadata": {
    "colab": {
     "base_uri": "https://localhost:8080/"
    },
    "id": "LPrmRMP_sjUX",
    "outputId": "0944f967-7a22-486c-aad9-2cd2feced72c"
   },
   "outputs": [],
   "source": [
    "orgs_data = {}\n",
    "for ORGANIZATION_NAME in tqdm.tqdm(organization_names[0:]):\n",
    "  try:\n",
    "    time.sleep(5)\n",
    "    r = requests.get(BASE_LINK+\"orgs/\"+ORGANIZATION_NAME, headers=header)\n",
    "    org_data = r.json()\n",
    "\n",
    "    description = org_data.get(\"description\")\n",
    "    twitter = org_data.get(\"twitter_username\")\n",
    "    twitter_link = f\"https://x.com/{twitter}\" if twitter else None\n",
    "\n",
    "\n",
    "    repos = []\n",
    "    page = 1  # Номер страницы для пагинации\n",
    "    while True:\n",
    "        # Формируем URL с учетом номера страницы\n",
    "        r = requests.get(\n",
    "            f\"{BASE_LINK}orgs/{ORGANIZATION_NAME}/repos\",\n",
    "            headers=header,\n",
    "            params={\"per_page\": 100, \"page\": page}  # Максимум 100 записей на страницу\n",
    "        )\n",
    "        \n",
    "        if not r.ok:\n",
    "            print(f\"Ошибка при запросе репозиториев: {r.status_code}\")\n",
    "            break\n",
    "\n",
    "        repo_data = r.json()\n",
    "        if not repo_data:  # Если данных больше нет, выходим из цикла\n",
    "            break\n",
    "\n",
    "        # Добавляем репозитории с текущей страницы\n",
    "        for repo in repo_data:\n",
    "            time.sleep(1)  # Задержка для соблюдения лимитов API\n",
    "            languages = requests.get(\n",
    "                BASE_LINK + f\"repos/{ORGANIZATION_NAME}/{repo['name']}/languages\",\n",
    "                headers=header\n",
    "            ).json()\n",
    "            percent_languages = convert_languages_to_percent(languages)\n",
    "\n",
    "            activity_data = requests.get(\n",
    "                BASE_LINK + f\"repos/{ORGANIZATION_NAME}/{repo['name']}/commits\",\n",
    "                headers=header,\n",
    "                params={\n",
    "                    \"since\": (datetime.datetime.now() - datetime.timedelta(days=183)).isoformat(),\n",
    "                    \"per_page\": 100\n",
    "                }\n",
    "            ).json()\n",
    "\n",
    "            last_commit_data = requests.get(\n",
    "                BASE_LINK + f\"repos/{ORGANIZATION_NAME}/{repo['name']}/commits/HEAD\",\n",
    "                headers=header\n",
    "            ).json()\n",
    "\n",
    "            last_commit_datetime = (\n",
    "                last_commit_data[\"commit\"][\"author\"][\"date\"]\n",
    "                if last_commit_data.get(\"commit\")\n",
    "                else None\n",
    "            )\n",
    "\n",
    "            repos.append({\n",
    "                \"name\": repo[\"name\"],\n",
    "                \"stars\": repo.get(\"stargazers_count\", 0),\n",
    "                \"languages\": percent_languages,\n",
    "                \"half_year_commits\": len(activity_data),\n",
    "                \"last_commit_date\": last_commit_datetime,\n",
    "                \"topics\": repo.get(\"topics\", [])\n",
    "            })\n",
    "\n",
    "        page += 1  # Переходим к следующей странице\n",
    "\n",
    "\n",
    "\n",
    "        orgs_data[ORGANIZATION_NAME] = {\n",
    "            \"description\": description,\n",
    "            \"twitter_link\": twitter_link,\n",
    "            \"repos\": repos\n",
    "        }\n",
    "  except:\n",
    "    import traceback\n",
    "    traceback.print_exc()\n",
    "    continue"
   ]
  },
  {
   "cell_type": "code",
   "execution_count": 11,
   "metadata": {},
   "outputs": [
    {
     "name": "stdout",
     "output_type": "stream",
     "text": [
      "180\n"
     ]
    }
   ],
   "source": [
    "print(len(orgs_data))"
   ]
  },
  {
   "cell_type": "code",
   "execution_count": 13,
   "metadata": {
    "id": "iTKpxkQ0ugyX"
   },
   "outputs": [],
   "source": [
    "import csv\n",
    "with open('by_repo_results5.csv', 'w', newline='', encoding=\"utf-8\") as f:\n",
    "  csvwriter = csv.writer(f, delimiter=';')\n",
    "  csvwriter.writerow([\"organization\", \"description\", \"twitter_link\", \"repo_name\", \"repo_stars\", \"repo_topics\", \"repo_languages\", \"repo_half_year_commits\", \"repo_last_commit_date\"])\n",
    "\n",
    "  for k in orgs_data.keys():\n",
    "    org = orgs_data[k]\n",
    "    csvwriter.writerow([k, org[\"description\"], org[\"twitter_link\"]])\n",
    "    for repo in org[\"repos\"]:\n",
    "      langs = \"%, \".join(map(lambda x: f\"{x[0]}: {x[1]}\", repo[\"languages\"].items()))+\"%\",\n",
    "      csvwriter.writerow([\" \"]*3 + [repo[\"name\"], repo[\"stars\"], repo[\"topics\"], langs, repo[\"half_year_commits\"], repo[\"last_commit_date\"]])"
   ]
  },
  {
   "cell_type": "code",
   "execution_count": 14,
   "metadata": {},
   "outputs": [
    {
     "name": "stdout",
     "output_type": "stream",
     "text": [
      "180\n"
     ]
    }
   ],
   "source": [
    "print(len(orgs_data))"
   ]
  },
  {
   "cell_type": "code",
   "execution_count": null,
   "metadata": {},
   "outputs": [],
   "source": [
    "import pandas as pd\n",
    "repo_data = pd.read_csv(\"by_repo_results.csv\", delimiter=\";\")\n",
    "repo_data['organization'].value_counts()"
   ]
  },
  {
   "cell_type": "code",
   "execution_count": 16,
   "metadata": {
    "id": "eBmAkOr4hVeG"
   },
   "outputs": [],
   "source": [
    "with open('by_org_results.csv', 'w', newline='') as f:\n",
    "  csvwriter = csv.writer(f, delimiter=';')\n",
    "  csvwriter.writerow([\"organization\", \"top 3 repo\", \"stars_count\", \"languages\", \"ros_repos\", \"name_parts\"])\n",
    "\n",
    "  for k in orgs_data.keys():\n",
    "    org = orgs_data[k]\n",
    "    org_name = k\n",
    "    top_3_repos = [r[\"name\"] for r in sorted(org[\"repos\"], key=lambda x: x[\"stars\"], reverse=True)[:5]]\n",
    "    stars_count = sum([r[\"stars\"] for r in org[\"repos\"]])\n",
    "    languages = list(set([k for repo in org[\"repos\"] for k in repo[\"languages\"].keys()]))\n",
    "    ros_repos = []\n",
    "    name_parts = []\n",
    "    for repo in org[\"repos\"]:\n",
    "      parts = name_split(repo[\"name\"])\n",
    "      name_parts.extend(parts)\n",
    "\n",
    "      lower_parts = [p.lower() for p in parts]\n",
    "      if \"ros\" in lower_parts or \"ros2\" in lower_parts:\n",
    "        ros_repos.append(repo[\"name\"])\n",
    "\n",
    "    csvwriter.writerow([org_name, top_3_repos, stars_count, languages, ros_repos, name_parts])\n",
    "\n",
    "    # csvwriter.writerow([k, org[\"description\"], org[\"twitter_link\"]])\n",
    "    # for repo in org[\"repos\"]:\n",
    "    #   csvwriter.writerow([\" \"]*3 + [repo[\"name\"], repo[\"stars\"], repo[\"topics\"], repo[\"languages\"], repo[\"half_year_commits\"], repo[\"last_commit_date\"]])"
   ]
  },
  {
   "cell_type": "code",
   "execution_count": null,
   "metadata": {
    "colab": {
     "base_uri": "https://localhost:8080/"
    },
    "id": "ovrI_iL8kWYb",
    "outputId": "e54a8aec-9c6a-439b-b2b3-d355f8476d91"
   },
   "outputs": [],
   "source": [
    "[k for repo in orgs_data[\"apple\"][\"repos\"] for k in repo[\"languages\"].keys()]"
   ]
  },
  {
   "cell_type": "markdown",
   "metadata": {
    "id": "SJR6pHP0t8kv"
   },
   "source": [
    "#### Test"
   ]
  },
  {
   "cell_type": "code",
   "execution_count": null,
   "metadata": {
    "colab": {
     "base_uri": "https://localhost:8080/"
    },
    "id": "gxpg1er-wGB9",
    "outputId": "7e0dfff4-f7bc-43c2-fe82-12b608e85ec1"
   },
   "outputs": [
    {
     "name": "stdout",
     "output_type": "stream",
     "text": [
      "\n"
     ]
    }
   ],
   "source": [
    "r = requests.get(BASE_LINK+\"orgs/\"+ORGANIZATION_NAME)\n",
    "org_data = r.json()\n",
    "\n",
    "description = org_data.get(\"description\")\n",
    "twitter = org_data.get(\"twitter_username\")\n",
    "twitter_link = f\"https://x.com/{twitter}\" if twitter else None\n",
    "\n",
    "print(f\"Description:\\n{description}\\n\"+f\"\\nTwitter:\\n{twitter_link}\" if twitter else \"\" )\n"
   ]
  },
  {
   "cell_type": "code",
   "execution_count": null,
   "metadata": {
    "id": "EMVoUEuQd9rZ"
   },
   "outputs": [],
   "source": [
    "r = requests.get(BASE_LINK+\"repos/leggedrobotics/darknet_ros\", headers=header)\n",
    "r.json()"
   ]
  },
  {
   "cell_type": "code",
   "execution_count": null,
   "metadata": {
    "id": "hcBx4eB1xbsT"
   },
   "outputs": [],
   "source": [
    "r = requests.get(BASE_LINK +\"orgs/\"+ ORGANIZATION_NAME + \"/repos\")\n",
    "orgs = []\n",
    "for org in r.json():\n",
    "  languages = requests.get(BASE_LINK+\"repos/\"+ORGANIZATION_NAME+f\"/{org['name']}/languages\").json()\n",
    "  percent_languages = convert_languages_to_percent(languages)\n",
    "\n",
    "  activity_data = requests.get(BASE_LINK+\"repos/\"+ORGANIZATION_NAME+f\"/{org['name']}/commits\", params={\n",
    "    \"since\": (datetime.datetime.now()-datetime.timedelta(days=183)).isoformat(),\n",
    "    \"per_page\": 100\n",
    "  }).json()\n",
    "\n",
    "  last_commit_data = requests.get(BASE_LINK+\"repos/\"+ORGANIZATION_NAME+f\"/{org['name']}/commits/HEAD\", params={\n",
    "      \"since\": (datetime.datetime.now()-datetime.timedelta(days=183)).isoformat()\n",
    "  }).json()\n",
    "\n",
    "\n",
    "  last_commit_datetime = last_commit_data[\"commit\"][\"author\"][\"date\"] if last_commit_data.get(\"commit\") else None\n",
    "\n",
    "  orgs.append({\n",
    "      \"name\": org[\"name\"],\n",
    "      \"stars\": org[\"stargazers_count\"] if org.get(\"stargazers_count\") else 0,\n",
    "      \"languages\": \"%, \".join(map(lambda x: f\"{x[0]}: {x[1]}\", percent_languages.items()))+\"%\",\n",
    "      \"half_year_commits\": len(activity_data),\n",
    "      \"last_commit_date\": last_commit_datetime\n",
    "\n",
    "  })"
   ]
  },
  {
   "cell_type": "code",
   "execution_count": null,
   "metadata": {
    "id": "mDuvZCSY5vqC"
   },
   "outputs": [],
   "source": [
    "for org in orgs:\n",
    "  print(f\"Name: {org['name']}\")\n",
    "  print(f\"Stars: {org['stars']}\")\n",
    "  print(f\"Languages: {org['languages']}\")\n",
    "  print(f\"Half Year Commits: {org['half_year_commits']}\")\n",
    "  print(f\"Date of last commit: {org['last_commit_date']}\")\n",
    "  print(\"\\n-----------------------------------------\\n\")"
   ]
  }
 ],
 "metadata": {
  "colab": {
   "provenance": []
  },
  "kernelspec": {
   "display_name": "Python 3",
   "name": "python3"
  },
  "language_info": {
   "codemirror_mode": {
    "name": "ipython",
    "version": 3
   },
   "file_extension": ".py",
   "mimetype": "text/x-python",
   "name": "python",
   "nbconvert_exporter": "python",
   "pygments_lexer": "ipython3",
   "version": "3.11.9"
  }
 },
 "nbformat": 4,
 "nbformat_minor": 0
}
