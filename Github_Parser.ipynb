{
  "cells": [
    {
      "cell_type": "code",
      "execution_count": 1,
      "metadata": {
        "id": "M23D7BxAv0Kh"
      },
      "outputs": [],
      "source": [
        "import requests\n",
        "import time\n",
        "import tqdm\n",
        "import datetime"
      ]
    },
    {
      "cell_type": "code",
      "execution_count": 2,
      "metadata": {
        "id": "_GzWr0e6sOxH"
      },
      "outputs": [],
      "source": [
        "organization_names = ['Accio-Robotics', 'adastec', 'addverbtech', 'adinkratech', 'advanced-navigation/', 'agilexrobotics', 'Angel-Robotics', 'angsa-robotics', 'apple', 'Apptronik-Public', 'arav-jp', 'ArcheRobotics', 'arminstitute', 'ARTI-Robots', 'ascento-robotics', 'abbenterprise', 'software-asimov', 'AUBORobotics', 'Auterion', 'Avnet', 'BastianSolutionsRandD', 'BeagleSystems', 'blue-ocean-robotics', 'bluerobotics', 'bmwgroup', 'boschresearch', 'bosch-bshg-cloud', 'canonical', 'Capgemini', 'CapraRobotics', 'alxhoff/realsense_mipi_platform_driver', 'CaterpillarInc', 'CM-Labs-Simulations', 'cobalt-robots', 'mlcommons/cm4abtf', 'KABAM-Robotics', 'cogniteam', 'dpiet', 'loonwerks/AGREE', 'RedhawkSDR', 'constructiverealities', 'corvus-robotics', 'timtro/catnav2', 'cyberbotics', 'cyngn', 'autowarefoundation', 'deltascm', 'DEMATIC', 'botsandus', 'dimaag-ai', 'doosan-robotics', 'draperlaboratory', 'easymov', 'elephantrobotics', 'emlid', 'Enova-Robotics', 'EvarClab', 'fireflyautomatix', 'fluxauto', 'FormantIO', 'GeneralElectric', 'GESTALT-Robotics', 'gofore', 'gravisrobotics', 'Greenzie', 'greyorange', 'groove-x', 'hello-robot', 'HesaiTechnology', 'Hiwonder', 'husarion', 'Hydromea', 'hyperspec-ai', 'Ignitarium', 'iknowhow-sa', 'teaminaho', 'Infineon', 'innokrobotics', 'intel', 'Intermodalics', 'i3drobotics', 'jetbrainrobotics', 'Kapernikov', 'kiwicampus', 'lanneriotsw', 'leo-drive', 'LeoRover', 'LexxPluss', 'Livox-SDK', 'locusrobotics', 'loopx-ai', 'lucidvisionlabs', 'lulav', 'luxonis/', 'magazino', 'MakarenaLabs', 'mathworks', 'microsoft', 'MisoRobotics', 'MORAI-Autonomous', 'motius', 'nakai-omer', 'neobotix', 'nerian-vision', 'nobleo', 'NXP', 'NXROBO', 'ocadotechnology', 'Oceaneering', 'data-charya/OLA-Electric', 'omron-devhub', 'osrf', 'Opteran', 'isys-vision', 'pal-robotics', 'PerceptIn', 'pixelink-support', 'pixmoving-moveit', 'PlusAI', 'qbrobotics', 'RangeAero', 'RealManRobot', 'redwirespace', 'tomlogan501', 'remakeai', 'REMYRobotics', 'renesas', 'RobertShaw', 'robo-deck', 'robosharing', 'robotechvision', 'robotican', 'robotiq', 'rt-net', 'rybergrobotics-hardware', 'SahaRobotik', 'seegrid-fleet', 'sliQue-Inc', 'ST-ROBOTICS', 'StoglRobotics', 'swift-nav', 'Tangram-Vision/', 'telemething', 'Tettix/', 'TheConstructAi', 'eplane-ai', 'autowarefoundation/autoware', 'traclabs', 'tryolabs', 'ufactory', 'unboxrobotics', 'UniversalRobots', 'uvify', 'Visteon-Manaus', 'westonrobot', 'xaxxontech', 'yokogawa', '4am-robotics']"
      ]
    },
    {
      "cell_type": "code",
      "execution_count": 3,
      "metadata": {
        "colab": {
          "base_uri": "https://localhost:8080/"
        },
        "id": "REq0t2mGsdLY",
        "outputId": "3b8d947d-42a3-462f-e632-0ae0960a4e38"
      },
      "outputs": [
        {
          "data": {
            "text/plain": [
              "158"
            ]
          },
          "execution_count": 3,
          "metadata": {},
          "output_type": "execute_result"
        }
      ],
      "source": [
        "len(organization_names)"
      ]
    },
    {
      "cell_type": "code",
      "execution_count": null,
      "metadata": {
        "colab": {
          "base_uri": "https://localhost:8080/"
        },
        "id": "sIxqx5yswF08",
        "outputId": "5dceaefb-807f-4920-f94f-a51807ac39ea"
      },
      "outputs": [],
      "source": [
        "import getpass\n",
        "TOKEN = getpass.getpass(\"github auth token: \")"
      ]
    },
    {
      "cell_type": "code",
      "execution_count": null,
      "metadata": {
        "id": "lZABXpPMygS7"
      },
      "outputs": [],
      "source": [
        "def convert_languages_to_percent(languages):\n",
        "  s = sum([v for k, v in languages.items()])\n",
        "  return {k: 100*v/s for k, v in languages.items()}\n",
        "\n",
        "def camel_case_split(s):\n",
        "    idx = list(map(str.isupper, s))\n",
        "    # mark change of case\n",
        "    l = [0]\n",
        "    for (i, (x, y)) in enumerate(zip(idx, idx[1:])):\n",
        "        if x and not y:  # \"Ul\"\n",
        "            l.append(i)\n",
        "        elif not x and y:  # \"lU\"\n",
        "            l.append(i+1)\n",
        "    l.append(len(s))\n",
        "    # for \"lUl\", index of \"U\" will pop twice, have to filter that\n",
        "    return [s[x:y] for x, y in zip(l, l[1:]) if x < y]\n",
        "\n",
        "def name_split(s):\n",
        "  if \"-\" in s:\n",
        "    return s.split(\"-\")\n",
        "  elif \"_\" in s:\n",
        "    return s.split(\"_\")\n",
        "  else:\n",
        "    return camel_case_split(s)"
      ]
    },
    {
      "cell_type": "code",
      "execution_count": null,
      "metadata": {
        "id": "D5j_5F5-v1pk"
      },
      "outputs": [],
      "source": [
        "BASE_LINK = \"https://api.github.com/\"\n",
        "header = {\"Authorization\": f\"Bearer {TOKEN}\"}"
      ]
    },
    {
      "cell_type": "code",
      "execution_count": null,
      "metadata": {
        "colab": {
          "base_uri": "https://localhost:8080/"
        },
        "id": "LPrmRMP_sjUX",
        "outputId": "0944f967-7a22-486c-aad9-2cd2feced72c"
      },
      "outputs": [
        {
          "name": "stderr",
          "output_type": "stream",
          "text": [
            "  2%|▏         | 2/107 [01:47<1:19:33, 45.46s/it] Traceback (most recent call last):\n",
            "  File \"C:\\Users\\Мария\\AppData\\Local\\Temp\\ipykernel_9320\\184159832.py\", line 31, in <module>\n",
            "    last_commit_data = requests.get(BASE_LINK+\"repos/\"+ORGANIZATION_NAME+f\"/{repo['name']}/commits/HEAD\", headers=header, params={\n",
            "                       ^^^^^^^^^^^^^^^^^^^^^^^^^^^^^^^^^^^^^^^^^^^^^^^^^^^^^^^^^^^^^^^^^^^^^^^^^^^^^^^^^^^^^^^^^^^^^^^^^^^^^^^^^^^\n",
            "  File \"C:\\Users\\Мария\\AppData\\Local\\Packages\\PythonSoftwareFoundation.Python.3.11_qbz5n2kfra8p0\\LocalCache\\local-packages\\Python311\\site-packages\\requests\\api.py\", line 73, in get\n",
            "    return request(\"get\", url, params=params, **kwargs)\n",
            "           ^^^^^^^^^^^^^^^^^^^^^^^^^^^^^^^^^^^^^^^^^^^^\n",
            "  File \"C:\\Users\\Мария\\AppData\\Local\\Packages\\PythonSoftwareFoundation.Python.3.11_qbz5n2kfra8p0\\LocalCache\\local-packages\\Python311\\site-packages\\requests\\api.py\", line 59, in request\n",
            "    return session.request(method=method, url=url, **kwargs)\n",
            "           ^^^^^^^^^^^^^^^^^^^^^^^^^^^^^^^^^^^^^^^^^^^^^^^^^\n",
            "  File \"C:\\Users\\Мария\\AppData\\Local\\Packages\\PythonSoftwareFoundation.Python.3.11_qbz5n2kfra8p0\\LocalCache\\local-packages\\Python311\\site-packages\\requests\\sessions.py\", line 589, in request\n",
            "    resp = self.send(prep, **send_kwargs)\n",
            "           ^^^^^^^^^^^^^^^^^^^^^^^^^^^^^^\n",
            "  File \"C:\\Users\\Мария\\AppData\\Local\\Packages\\PythonSoftwareFoundation.Python.3.11_qbz5n2kfra8p0\\LocalCache\\local-packages\\Python311\\site-packages\\requests\\sessions.py\", line 746, in send\n",
            "    r.content\n",
            "  File \"C:\\Users\\Мария\\AppData\\Local\\Packages\\PythonSoftwareFoundation.Python.3.11_qbz5n2kfra8p0\\LocalCache\\local-packages\\Python311\\site-packages\\requests\\models.py\", line 902, in content\n",
            "    self._content = b\"\".join(self.iter_content(CONTENT_CHUNK_SIZE)) or b\"\"\n",
            "                    ^^^^^^^^^^^^^^^^^^^^^^^^^^^^^^^^^^^^^^^^^^^^^^^\n",
            "  File \"C:\\Users\\Мария\\AppData\\Local\\Packages\\PythonSoftwareFoundation.Python.3.11_qbz5n2kfra8p0\\LocalCache\\local-packages\\Python311\\site-packages\\requests\\models.py\", line 820, in generate\n",
            "    yield from self.raw.stream(chunk_size, decode_content=True)\n",
            "  File \"C:\\Users\\Мария\\AppData\\Local\\Packages\\PythonSoftwareFoundation.Python.3.11_qbz5n2kfra8p0\\LocalCache\\local-packages\\Python311\\site-packages\\urllib3\\response.py\", line 1057, in stream\n",
            "    yield from self.read_chunked(amt, decode_content=decode_content)\n",
            "  File \"C:\\Users\\Мария\\AppData\\Local\\Packages\\PythonSoftwareFoundation.Python.3.11_qbz5n2kfra8p0\\LocalCache\\local-packages\\Python311\\site-packages\\urllib3\\response.py\", line 1209, in read_chunked\n",
            "    chunk = self._handle_chunk(amt)\n",
            "            ^^^^^^^^^^^^^^^^^^^^^^^\n",
            "  File \"C:\\Users\\Мария\\AppData\\Local\\Packages\\PythonSoftwareFoundation.Python.3.11_qbz5n2kfra8p0\\LocalCache\\local-packages\\Python311\\site-packages\\urllib3\\response.py\", line 1155, in _handle_chunk\n",
            "    returned_chunk = self._fp._safe_read(self.chunk_left)  # type: ignore[union-attr]\n",
            "                     ^^^^^^^^^^^^^^^^^^^^^^^^^^^^^^^^^^^^\n",
            "  File \"C:\\Program Files\\WindowsApps\\PythonSoftwareFoundation.Python.3.11_3.11.2544.0_x64__qbz5n2kfra8p0\\Lib\\http\\client.py\", line 638, in _safe_read\n",
            "    data = self.fp.read(amt)\n",
            "           ^^^^^^^^^^^^^^^^^\n",
            "  File \"C:\\Program Files\\WindowsApps\\PythonSoftwareFoundation.Python.3.11_3.11.2544.0_x64__qbz5n2kfra8p0\\Lib\\socket.py\", line 706, in readinto\n",
            "    return self._sock.recv_into(b)\n",
            "           ^^^^^^^^^^^^^^^^^^^^^^^\n",
            "  File \"C:\\Program Files\\WindowsApps\\PythonSoftwareFoundation.Python.3.11_3.11.2544.0_x64__qbz5n2kfra8p0\\Lib\\ssl.py\", line 1314, in recv_into\n",
            "    return self.read(nbytes, buffer)\n",
            "           ^^^^^^^^^^^^^^^^^^^^^^^^^\n",
            "  File \"C:\\Program Files\\WindowsApps\\PythonSoftwareFoundation.Python.3.11_3.11.2544.0_x64__qbz5n2kfra8p0\\Lib\\ssl.py\", line 1166, in read\n",
            "    return self._sslobj.read(len, buffer)\n",
            "           ^^^^^^^^^^^^^^^^^^^^^^^^^^^^^^\n",
            "KeyboardInterrupt\n",
            "  3%|▎         | 3/107 [02:27<1:13:58, 42.68s/it]Traceback (most recent call last):\n",
            "  File \"C:\\Users\\Мария\\AppData\\Local\\Temp\\ipykernel_9320\\184159832.py\", line 31, in <module>\n",
            "    last_commit_data = requests.get(BASE_LINK+\"repos/\"+ORGANIZATION_NAME+f\"/{repo['name']}/commits/HEAD\", headers=header, params={\n",
            "                       ^^^^^^^^^^^^^^^^^^^^^^^^^^^^^^^^^^^^^^^^^^^^^^^^^^^^^^^^^^^^^^^^^^^^^^^^^^^^^^^^^^^^^^^^^^^^^^^^^^^^^^^^^^^\n",
            "  File \"C:\\Users\\Мария\\AppData\\Local\\Packages\\PythonSoftwareFoundation.Python.3.11_qbz5n2kfra8p0\\LocalCache\\local-packages\\Python311\\site-packages\\requests\\api.py\", line 73, in get\n",
            "    return request(\"get\", url, params=params, **kwargs)\n",
            "           ^^^^^^^^^^^^^^^^^^^^^^^^^^^^^^^^^^^^^^^^^^^^\n",
            "  File \"C:\\Users\\Мария\\AppData\\Local\\Packages\\PythonSoftwareFoundation.Python.3.11_qbz5n2kfra8p0\\LocalCache\\local-packages\\Python311\\site-packages\\requests\\api.py\", line 59, in request\n",
            "    return session.request(method=method, url=url, **kwargs)\n",
            "           ^^^^^^^^^^^^^^^^^^^^^^^^^^^^^^^^^^^^^^^^^^^^^^^^^\n",
            "  File \"C:\\Users\\Мария\\AppData\\Local\\Packages\\PythonSoftwareFoundation.Python.3.11_qbz5n2kfra8p0\\LocalCache\\local-packages\\Python311\\site-packages\\requests\\sessions.py\", line 589, in request\n",
            "    resp = self.send(prep, **send_kwargs)\n",
            "           ^^^^^^^^^^^^^^^^^^^^^^^^^^^^^^\n",
            "  File \"C:\\Users\\Мария\\AppData\\Local\\Packages\\PythonSoftwareFoundation.Python.3.11_qbz5n2kfra8p0\\LocalCache\\local-packages\\Python311\\site-packages\\requests\\sessions.py\", line 703, in send\n",
            "    r = adapter.send(request, **kwargs)\n",
            "        ^^^^^^^^^^^^^^^^^^^^^^^^^^^^^^^\n",
            "  File \"C:\\Users\\Мария\\AppData\\Local\\Packages\\PythonSoftwareFoundation.Python.3.11_qbz5n2kfra8p0\\LocalCache\\local-packages\\Python311\\site-packages\\requests\\adapters.py\", line 667, in send\n",
            "    resp = conn.urlopen(\n",
            "           ^^^^^^^^^^^^^\n",
            "  File \"C:\\Users\\Мария\\AppData\\Local\\Packages\\PythonSoftwareFoundation.Python.3.11_qbz5n2kfra8p0\\LocalCache\\local-packages\\Python311\\site-packages\\urllib3\\connectionpool.py\", line 789, in urlopen\n",
            "    response = self._make_request(\n",
            "               ^^^^^^^^^^^^^^^^^^^\n",
            "  File \"C:\\Users\\Мария\\AppData\\Local\\Packages\\PythonSoftwareFoundation.Python.3.11_qbz5n2kfra8p0\\LocalCache\\local-packages\\Python311\\site-packages\\urllib3\\connectionpool.py\", line 536, in _make_request\n",
            "    response = conn.getresponse()\n",
            "               ^^^^^^^^^^^^^^^^^^\n",
            "  File \"C:\\Users\\Мария\\AppData\\Local\\Packages\\PythonSoftwareFoundation.Python.3.11_qbz5n2kfra8p0\\LocalCache\\local-packages\\Python311\\site-packages\\urllib3\\connection.py\", line 507, in getresponse\n",
            "    httplib_response = super().getresponse()\n",
            "                       ^^^^^^^^^^^^^^^^^^^^^\n",
            "  File \"C:\\Program Files\\WindowsApps\\PythonSoftwareFoundation.Python.3.11_3.11.2544.0_x64__qbz5n2kfra8p0\\Lib\\http\\client.py\", line 1395, in getresponse\n",
            "    response.begin()\n",
            "  File \"C:\\Program Files\\WindowsApps\\PythonSoftwareFoundation.Python.3.11_3.11.2544.0_x64__qbz5n2kfra8p0\\Lib\\http\\client.py\", line 325, in begin\n",
            "    version, status, reason = self._read_status()\n",
            "                              ^^^^^^^^^^^^^^^^^^^\n",
            "  File \"C:\\Program Files\\WindowsApps\\PythonSoftwareFoundation.Python.3.11_3.11.2544.0_x64__qbz5n2kfra8p0\\Lib\\http\\client.py\", line 286, in _read_status\n",
            "    line = str(self.fp.readline(_MAXLINE + 1), \"iso-8859-1\")\n",
            "               ^^^^^^^^^^^^^^^^^^^^^^^^^^^^^^\n",
            "  File \"C:\\Program Files\\WindowsApps\\PythonSoftwareFoundation.Python.3.11_3.11.2544.0_x64__qbz5n2kfra8p0\\Lib\\socket.py\", line 706, in readinto\n",
            "    return self._sock.recv_into(b)\n",
            "           ^^^^^^^^^^^^^^^^^^^^^^^\n",
            "  File \"C:\\Program Files\\WindowsApps\\PythonSoftwareFoundation.Python.3.11_3.11.2544.0_x64__qbz5n2kfra8p0\\Lib\\ssl.py\", line 1314, in recv_into\n",
            "    return self.read(nbytes, buffer)\n",
            "           ^^^^^^^^^^^^^^^^^^^^^^^^^\n",
            "  File \"C:\\Program Files\\WindowsApps\\PythonSoftwareFoundation.Python.3.11_3.11.2544.0_x64__qbz5n2kfra8p0\\Lib\\ssl.py\", line 1166, in read\n",
            "    return self._sslobj.read(len, buffer)\n",
            "           ^^^^^^^^^^^^^^^^^^^^^^^^^^^^^^\n",
            "KeyboardInterrupt\n",
            "  5%|▍         | 5/107 [03:50<1:04:53, 38.17s/it]Traceback (most recent call last):\n",
            "  File \"C:\\Users\\Мария\\AppData\\Local\\Temp\\ipykernel_9320\\184159832.py\", line 23, in <module>\n",
            "    languages = requests.get(BASE_LINK+\"repos/\"+ORGANIZATION_NAME+f\"/{repo['name']}/languages\", headers=header).json()\n",
            "                ^^^^^^^^^^^^^^^^^^^^^^^^^^^^^^^^^^^^^^^^^^^^^^^^^^^^^^^^^^^^^^^^^^^^^^^^^^^^^^^^^^^^^^^^^^^^^^^\n",
            "  File \"C:\\Users\\Мария\\AppData\\Local\\Packages\\PythonSoftwareFoundation.Python.3.11_qbz5n2kfra8p0\\LocalCache\\local-packages\\Python311\\site-packages\\requests\\api.py\", line 73, in get\n",
            "    return request(\"get\", url, params=params, **kwargs)\n",
            "           ^^^^^^^^^^^^^^^^^^^^^^^^^^^^^^^^^^^^^^^^^^^^\n",
            "  File \"C:\\Users\\Мария\\AppData\\Local\\Packages\\PythonSoftwareFoundation.Python.3.11_qbz5n2kfra8p0\\LocalCache\\local-packages\\Python311\\site-packages\\requests\\api.py\", line 59, in request\n",
            "    return session.request(method=method, url=url, **kwargs)\n",
            "           ^^^^^^^^^^^^^^^^^^^^^^^^^^^^^^^^^^^^^^^^^^^^^^^^^\n",
            "  File \"C:\\Users\\Мария\\AppData\\Local\\Packages\\PythonSoftwareFoundation.Python.3.11_qbz5n2kfra8p0\\LocalCache\\local-packages\\Python311\\site-packages\\requests\\sessions.py\", line 589, in request\n",
            "    resp = self.send(prep, **send_kwargs)\n",
            "           ^^^^^^^^^^^^^^^^^^^^^^^^^^^^^^\n",
            "  File \"C:\\Users\\Мария\\AppData\\Local\\Packages\\PythonSoftwareFoundation.Python.3.11_qbz5n2kfra8p0\\LocalCache\\local-packages\\Python311\\site-packages\\requests\\sessions.py\", line 703, in send\n",
            "    r = adapter.send(request, **kwargs)\n",
            "        ^^^^^^^^^^^^^^^^^^^^^^^^^^^^^^^\n",
            "  File \"C:\\Users\\Мария\\AppData\\Local\\Packages\\PythonSoftwareFoundation.Python.3.11_qbz5n2kfra8p0\\LocalCache\\local-packages\\Python311\\site-packages\\requests\\adapters.py\", line 667, in send\n",
            "    resp = conn.urlopen(\n",
            "           ^^^^^^^^^^^^^\n",
            "  File \"C:\\Users\\Мария\\AppData\\Local\\Packages\\PythonSoftwareFoundation.Python.3.11_qbz5n2kfra8p0\\LocalCache\\local-packages\\Python311\\site-packages\\urllib3\\connectionpool.py\", line 789, in urlopen\n",
            "    response = self._make_request(\n",
            "               ^^^^^^^^^^^^^^^^^^^\n",
            "  File \"C:\\Users\\Мария\\AppData\\Local\\Packages\\PythonSoftwareFoundation.Python.3.11_qbz5n2kfra8p0\\LocalCache\\local-packages\\Python311\\site-packages\\urllib3\\connectionpool.py\", line 466, in _make_request\n",
            "    self._validate_conn(conn)\n",
            "  File \"C:\\Users\\Мария\\AppData\\Local\\Packages\\PythonSoftwareFoundation.Python.3.11_qbz5n2kfra8p0\\LocalCache\\local-packages\\Python311\\site-packages\\urllib3\\connectionpool.py\", line 1095, in _validate_conn\n",
            "    conn.connect()\n",
            "  File \"C:\\Users\\Мария\\AppData\\Local\\Packages\\PythonSoftwareFoundation.Python.3.11_qbz5n2kfra8p0\\LocalCache\\local-packages\\Python311\\site-packages\\urllib3\\connection.py\", line 730, in connect\n",
            "    sock_and_verified = _ssl_wrap_socket_and_match_hostname(\n",
            "                        ^^^^^^^^^^^^^^^^^^^^^^^^^^^^^^^^^^^^\n",
            "  File \"C:\\Users\\Мария\\AppData\\Local\\Packages\\PythonSoftwareFoundation.Python.3.11_qbz5n2kfra8p0\\LocalCache\\local-packages\\Python311\\site-packages\\urllib3\\connection.py\", line 909, in _ssl_wrap_socket_and_match_hostname\n",
            "    ssl_sock = ssl_wrap_socket(\n",
            "               ^^^^^^^^^^^^^^^^\n",
            "  File \"C:\\Users\\Мария\\AppData\\Local\\Packages\\PythonSoftwareFoundation.Python.3.11_qbz5n2kfra8p0\\LocalCache\\local-packages\\Python311\\site-packages\\urllib3\\util\\ssl_.py\", line 469, in ssl_wrap_socket\n",
            "    ssl_sock = _ssl_wrap_socket_impl(sock, context, tls_in_tls, server_hostname)\n",
            "               ^^^^^^^^^^^^^^^^^^^^^^^^^^^^^^^^^^^^^^^^^^^^^^^^^^^^^^^^^^^^^^^^^\n",
            "  File \"C:\\Users\\Мария\\AppData\\Local\\Packages\\PythonSoftwareFoundation.Python.3.11_qbz5n2kfra8p0\\LocalCache\\local-packages\\Python311\\site-packages\\urllib3\\util\\ssl_.py\", line 513, in _ssl_wrap_socket_impl\n",
            "    return ssl_context.wrap_socket(sock, server_hostname=server_hostname)\n",
            "           ^^^^^^^^^^^^^^^^^^^^^^^^^^^^^^^^^^^^^^^^^^^^^^^^^^^^^^^^^^^^^^\n",
            "  File \"C:\\Program Files\\WindowsApps\\PythonSoftwareFoundation.Python.3.11_3.11.2544.0_x64__qbz5n2kfra8p0\\Lib\\ssl.py\", line 517, in wrap_socket\n",
            "    return self.sslsocket_class._create(\n",
            "           ^^^^^^^^^^^^^^^^^^^^^^^^^^^^^\n",
            "  File \"C:\\Program Files\\WindowsApps\\PythonSoftwareFoundation.Python.3.11_3.11.2544.0_x64__qbz5n2kfra8p0\\Lib\\ssl.py\", line 1104, in _create\n",
            "    self.do_handshake()\n",
            "  File \"C:\\Program Files\\WindowsApps\\PythonSoftwareFoundation.Python.3.11_3.11.2544.0_x64__qbz5n2kfra8p0\\Lib\\ssl.py\", line 1382, in do_handshake\n",
            "    self._sslobj.do_handshake()\n",
            "KeyboardInterrupt\n",
            "  6%|▌         | 6/107 [04:23<1:01:26, 36.50s/it]Traceback (most recent call last):\n",
            "  File \"C:\\Users\\Мария\\AppData\\Local\\Temp\\ipykernel_9320\\184159832.py\", line 4, in <module>\n",
            "    time.sleep(5)\n",
            "KeyboardInterrupt\n",
            "  7%|▋         | 7/107 [04:28<43:40, 26.20s/it]  "
          ]
        },
        {
          "ename": "",
          "evalue": "",
          "output_type": "error",
          "traceback": [
            "\u001b[1;31mCannot execute code, session has been disposed. Please try restarting the Kernel."
          ]
        },
        {
          "ename": "",
          "evalue": "",
          "output_type": "error",
          "traceback": [
            "\u001b[1;31mCannot execute code, session has been disposed. Please try restarting the Kernel. \n",
            "\u001b[1;31mView Jupyter <a href='command:jupyter.viewOutput'>log</a> for further details."
          ]
        }
      ],
      "source": [
        "orgs_data = {}\n",
        "for ORGANIZATION_NAME in tqdm.tqdm(organization_names):\n",
        "  try:\n",
        "    time.sleep(5)\n",
        "    r = requests.get(BASE_LINK+\"orgs/\"+ORGANIZATION_NAME, headers=header)\n",
        "    org_data = r.json()\n",
        "\n",
        "    description = org_data.get(\"description\")\n",
        "    twitter = org_data.get(\"twitter_username\")\n",
        "    twitter_link = f\"https://x.com/{twitter}\" if twitter else None\n",
        "\n",
        "\n",
        "    r = requests.get(BASE_LINK +\"orgs/\"+ ORGANIZATION_NAME + \"/repos\", headers=header)\n",
        "    repos = []\n",
        "    if r.ok:\n",
        "\n",
        "      repo_data = r.json()\n",
        "      # print(repo_data)\n",
        "      if repo_data:\n",
        "        for repo in repo_data:\n",
        "          # print(repo)\n",
        "          time.sleep(1)\n",
        "          languages = requests.get(BASE_LINK+\"repos/\"+ORGANIZATION_NAME+f\"/{repo['name']}/languages\", headers=header).json()\n",
        "          percent_languages = convert_languages_to_percent(languages)\n",
        "\n",
        "          activity_data = requests.get(BASE_LINK+\"repos/\"+ORGANIZATION_NAME+f\"/{repo['name']}/commits\", headers=header, params={\n",
        "            \"since\": (datetime.datetime.now()-datetime.timedelta(days=183)).isoformat(),\n",
        "            \"per_page\": 100\n",
        "          }).json()\n",
        "\n",
        "          last_commit_data = requests.get(BASE_LINK+\"repos/\"+ORGANIZATION_NAME+f\"/{repo['name']}/commits/HEAD\", headers=header, params={\n",
        "              \"since\": (datetime.datetime.now()-datetime.timedelta(days=183)).isoformat()\n",
        "          }).json()\n",
        "\n",
        "\n",
        "          last_commit_datetime = last_commit_data[\"commit\"][\"author\"][\"date\"] if last_commit_data.get(\"commit\") else None\n",
        "\n",
        "          repos.append({\n",
        "              \"name\": repo[\"name\"],\n",
        "              \"stars\": repo[\"stargazers_count\"] if repo.get(\"stargazers_count\") else 0,\n",
        "              \"languages\": percent_languages,\n",
        "              \"half_year_commits\": len(activity_data),\n",
        "              \"last_commit_date\": last_commit_datetime,\n",
        "              \"topics\": repo.get(\"topics\") or []\n",
        "\n",
        "          })\n",
        "\n",
        "\n",
        "    orgs_data[ORGANIZATION_NAME] = {\n",
        "        \"description\": description,\n",
        "        \"twitter_link\": twitter_link,\n",
        "        \"repos\": repos\n",
        "    }\n",
        "  except:\n",
        "    import traceback\n",
        "    traceback.print_exc()\n",
        "    continue"
      ]
    },
    {
      "cell_type": "code",
      "execution_count": null,
      "metadata": {
        "id": "iTKpxkQ0ugyX"
      },
      "outputs": [],
      "source": [
        "import csv\n",
        "with open('by_repo_results8.csv', 'w', newline='') as f:\n",
        "  csvwriter = csv.writer(f, delimiter=';')\n",
        "  csvwriter.writerow([\"organization\", \"description\", \"twitter_link\", \"repo_name\", \"repo_stars\", \"repo_topics\", \"repo_languages\", \"repo_half_year_commits\", \"repo_last_commit_date\"])\n",
        "\n",
        "  for k in orgs_data.keys():\n",
        "    org = orgs_data[k]\n",
        "    csvwriter.writerow([k, org[\"description\"], org[\"twitter_link\"]])\n",
        "    for repo in org[\"repos\"]:\n",
        "      langs = \"%, \".join(map(lambda x: f\"{x[0]}: {x[1]}\", repo[\"languages\"].items()))+\"%\",\n",
        "      csvwriter.writerow([\" \"]*3 + [repo[\"name\"], repo[\"stars\"], repo[\"topics\"], langs, repo[\"half_year_commits\"], repo[\"last_commit_date\"]])"
      ]
    },
    {
      "cell_type": "code",
      "execution_count": null,
      "metadata": {
        "id": "eBmAkOr4hVeG"
      },
      "outputs": [],
      "source": [
        "with open('by_org_results.csv', 'w', newline='') as f:\n",
        "  csvwriter = csv.writer(f, delimiter=';')\n",
        "  csvwriter.writerow([\"organization\", \"top 3 repo\", \"stars_count\", \"languages\", \"ros_repos\", \"name_parts\"])\n",
        "\n",
        "  for k in orgs_data.keys():\n",
        "    org = orgs_data[k]\n",
        "    org_name = k\n",
        "    top_3_repos = [r[\"name\"] for r in sorted(org[\"repos\"], key=lambda x: x[\"stars\"], reverse=True)[:5]]\n",
        "    stars_count = sum([r[\"stars\"] for r in org[\"repos\"]])\n",
        "    languages = list(set([k for repo in org[\"repos\"] for k in repo[\"languages\"].keys()]))\n",
        "    ros_repos = []\n",
        "    name_parts = []\n",
        "    for repo in org[\"repos\"]:\n",
        "      parts = name_split(repo[\"name\"])\n",
        "      name_parts.extend(parts)\n",
        "\n",
        "      lower_parts = [p.lower() for p in parts]\n",
        "      if \"ros\" in lower_parts or \"ros2\" in lower_parts:\n",
        "        ros_repos.append(repo[\"name\"])\n",
        "\n",
        "    csvwriter.writerow([org_name, top_3_repos, stars_count, languages, ros_repos, name_parts])\n",
        "\n",
        "    # csvwriter.writerow([k, org[\"description\"], org[\"twitter_link\"]])\n",
        "    # for repo in org[\"repos\"]:\n",
        "    #   csvwriter.writerow([\" \"]*3 + [repo[\"name\"], repo[\"stars\"], repo[\"topics\"], repo[\"languages\"], repo[\"half_year_commits\"], repo[\"last_commit_date\"]])"
      ]
    },
    {
      "cell_type": "code",
      "execution_count": null,
      "metadata": {
        "colab": {
          "base_uri": "https://localhost:8080/"
        },
        "id": "ovrI_iL8kWYb",
        "outputId": "e54a8aec-9c6a-439b-b2b3-d355f8476d91"
      },
      "outputs": [
        {
          "data": {
            "text/plain": [
              "['Python',\n",
              " 'Python',\n",
              " 'Python',\n",
              " 'CMake',\n",
              " 'C',\n",
              " 'Makefile',\n",
              " 'CMake',\n",
              " 'Roff',\n",
              " 'C++',\n",
              " 'Shell',\n",
              " 'Python',\n",
              " 'Makefile',\n",
              " 'Python']"
            ]
          },
          "execution_count": 28,
          "metadata": {},
          "output_type": "execute_result"
        }
      ],
      "source": [
        "[k for repo in orgs_data[\"UrbanMachine\"][\"repos\"] for k in repo[\"languages\"].keys()]"
      ]
    },
    {
      "cell_type": "markdown",
      "metadata": {
        "id": "SJR6pHP0t8kv"
      },
      "source": [
        "#### Test"
      ]
    },
    {
      "cell_type": "code",
      "execution_count": null,
      "metadata": {
        "colab": {
          "base_uri": "https://localhost:8080/"
        },
        "id": "gxpg1er-wGB9",
        "outputId": "7e0dfff4-f7bc-43c2-fe82-12b608e85ec1"
      },
      "outputs": [
        {
          "name": "stdout",
          "output_type": "stream",
          "text": [
            "Description:\n",
            "Financing the 4th Industrial Revolution\n",
            "\n",
            "Twitter:\n",
            "https://x.com/MerkleB0t\n"
          ]
        }
      ],
      "source": [
        "r = requests.get(BASE_LINK+\"orgs/\"+ORGANIZATION_NAME)\n",
        "org_data = r.json()\n",
        "\n",
        "description = org_data.get(\"description\")\n",
        "twitter = org_data.get(\"twitter_username\")\n",
        "twitter_link = f\"https://x.com/{twitter}\" if twitter else None\n",
        "\n",
        "print(f\"Description:\\n{description}\\n\"+f\"\\nTwitter:\\n{twitter_link}\" if twitter else \"\" )\n"
      ]
    },
    {
      "cell_type": "code",
      "execution_count": null,
      "metadata": {
        "id": "EMVoUEuQd9rZ"
      },
      "outputs": [],
      "source": [
        "r = requests.get(BASE_LINK+\"repos/leggedrobotics/darknet_ros\", headers=header)\n",
        "r.json()"
      ]
    },
    {
      "cell_type": "code",
      "execution_count": null,
      "metadata": {
        "id": "P3lwV5Pwd7pG"
      },
      "outputs": [],
      "source": []
    },
    {
      "cell_type": "code",
      "execution_count": null,
      "metadata": {
        "id": "hcBx4eB1xbsT"
      },
      "outputs": [],
      "source": [
        "r = requests.get(BASE_LINK +\"orgs/\"+ ORGANIZATION_NAME + \"/repos\")\n",
        "orgs = []\n",
        "for org in r.json():\n",
        "  languages = requests.get(BASE_LINK+\"repos/\"+ORGANIZATION_NAME+f\"/{org['name']}/languages\").json()\n",
        "  percent_languages = convert_languages_to_percent(languages)\n",
        "\n",
        "  activity_data = requests.get(BASE_LINK+\"repos/\"+ORGANIZATION_NAME+f\"/{org['name']}/commits\", params={\n",
        "    \"since\": (datetime.datetime.now()-datetime.timedelta(days=183)).isoformat(),\n",
        "    \"per_page\": 100\n",
        "  }).json()\n",
        "\n",
        "  last_commit_data = requests.get(BASE_LINK+\"repos/\"+ORGANIZATION_NAME+f\"/{org['name']}/commits/HEAD\", params={\n",
        "      \"since\": (datetime.datetime.now()-datetime.timedelta(days=183)).isoformat()\n",
        "  }).json()\n",
        "\n",
        "\n",
        "  last_commit_datetime = last_commit_data[\"commit\"][\"author\"][\"date\"] if last_commit_data.get(\"commit\") else None\n",
        "\n",
        "  orgs.append({\n",
        "      \"name\": org[\"name\"],\n",
        "      \"stars\": org[\"stargazers_count\"] if org.get(\"stargazers_count\") else 0,\n",
        "      \"languages\": \"%, \".join(map(lambda x: f\"{x[0]}: {x[1]}\", percent_languages.items()))+\"%\",\n",
        "      \"half_year_commits\": len(activity_data),\n",
        "      \"last_commit_date\": last_commit_datetime\n",
        "\n",
        "  })"
      ]
    },
    {
      "cell_type": "code",
      "execution_count": null,
      "metadata": {
        "id": "mDuvZCSY5vqC"
      },
      "outputs": [],
      "source": [
        "for org in orgs:\n",
        "  print(f\"Name: {org['name']}\")\n",
        "  print(f\"Stars: {org['stars']}\")\n",
        "  print(f\"Languages: {org['languages']}\")\n",
        "  print(f\"Half Year Commits: {org['half_year_commits']}\")\n",
        "  print(f\"Date of last commit: {org['last_commit_date']}\")\n",
        "  print(\"\\n-----------------------------------------\\n\")"
      ]
    }
  ],
  "metadata": {
    "colab": {
      "provenance": []
    },
    "kernelspec": {
      "display_name": "Python 3",
      "name": "python3"
    },
    "language_info": {
      "codemirror_mode": {
        "name": "ipython",
        "version": 3
      },
      "file_extension": ".py",
      "mimetype": "text/x-python",
      "name": "python",
      "nbconvert_exporter": "python",
      "pygments_lexer": "ipython3",
      "version": "3.11.9"
    }
  },
  "nbformat": 4,
  "nbformat_minor": 0
}
